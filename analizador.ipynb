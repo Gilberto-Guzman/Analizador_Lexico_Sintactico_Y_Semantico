{
 "cells": [
  {
   "attachments": {},
   "cell_type": "markdown",
   "metadata": {},
   "source": [
    "### Gramatica.\n",
    "- programa      ➯ declaraciones  \n",
    "- declaraciones ➯ declaraciones declaracion | declaracion  \n",
    "- declaracion   ➯ IDENTIFICADOR = expresion  \n",
    "- expresion     ➯ expresion + termino | expresion - termino | termino  \n",
    "- termino       ➯ termino * factor | termino / factor | factor  \n",
    "- factor        ➯ ENTERO | IDENTIFICADOR | ( expresion )  "
   ]
  },
  {
   "attachments": {},
   "cell_type": "markdown",
   "metadata": {},
   "source": [
    "### Variables Globales"
   ]
  },
  {
   "cell_type": "code",
   "execution_count": 1,
   "metadata": {},
   "outputs": [],
   "source": [
    "Test_Analizador_Sintactico = True\n",
    "Test_Analizador_Semantico = True"
   ]
  },
  {
   "attachments": {},
   "cell_type": "markdown",
   "metadata": {},
   "source": [
    "### Analizador Léxico."
   ]
  },
  {
   "cell_type": "code",
   "execution_count": 2,
   "metadata": {},
   "outputs": [],
   "source": [
    "class Token:\n",
    "    def __init__(self, tipo, valor=None):\n",
    "        self.tipo = tipo\n",
    "        self.valor = valor\n",
    "\n",
    "class Lexer:\n",
    "    def __init__(self, codigo):\n",
    "        self.codigo = codigo\n",
    "        self.posicion = 0\n",
    "        self.tokens = []\n",
    "\n",
    "    def obtener_tokens(self):\n",
    "        while self.posicion < len(self.codigo):\n",
    "            if self.codigo[self.posicion].isdigit():\n",
    "                self.obtener_numero()\n",
    "            elif self.codigo[self.posicion].isalpha():\n",
    "                self.obtener_variable()\n",
    "            elif self.codigo[self.posicion] in \"+-*/()=\":\n",
    "                self.obtener_operador()\n",
    "            elif self.codigo[self.posicion] == \"#\":\n",
    "                self.obtener_comentario()\n",
    "            else:\n",
    "                self.posicion += 1\n",
    "\n",
    "        return self.tokens\n",
    "\n",
    "    def obtener_numero(self):\n",
    "        numero = \"\"\n",
    "        while self.posicion < len(self.codigo) and self.codigo[self.posicion].isdigit():\n",
    "            numero += self.codigo[self.posicion]\n",
    "            self.posicion += 1\n",
    "        self.tokens.append(Token(\"ENTERO\", int(numero)))\n",
    "\n",
    "    def obtener_variable(self):\n",
    "        variable = \"\"\n",
    "        while self.posicion < len(self.codigo) and (self.codigo[self.posicion].isalnum() or self.codigo[self.posicion] == \"_\"):\n",
    "            variable += self.codigo[self.posicion]\n",
    "            self.posicion += 1\n",
    "        self.tokens.append(Token(\"IDENTIFICADOR\", variable))\n",
    "\n",
    "    def obtener_operador(self):\n",
    "        operador = self.codigo[self.posicion]\n",
    "        self.tokens.append(Token(operador))\n",
    "        self.posicion += 1\n",
    "\n",
    "    def obtener_comentario(self):\n",
    "        while self.posicion < len(self.codigo) and self.codigo[self.posicion] != \"\\n\":\n",
    "            self.posicion += 1\n",
    "\n"
   ]
  },
  {
   "attachments": {},
   "cell_type": "markdown",
   "metadata": {},
   "source": [
    "### Analizador Sintáctico."
   ]
  },
  {
   "cell_type": "code",
   "execution_count": 3,
   "metadata": {},
   "outputs": [],
   "source": [
    "class Analizador:\n",
    "    def __init__(self, tokens):\n",
    "        self.tokens = tokens\n",
    "        self.posicion = 0\n",
    "\n",
    "    def analizar(self):\n",
    "        declaraciones = []\n",
    "        while self.posicion < len(self.tokens):\n",
    "            declaraciones.append(self.declaracion())\n",
    "        return declaraciones\n",
    "\n",
    "    def declaracion(self):\n",
    "        identificador = self.esperar(\"IDENTIFICADOR\").valor\n",
    "        self.esperar(\"=\")\n",
    "        expresion = self.expresion()\n",
    "        return (identificador, expresion)\n",
    "    \n",
    "    def expresion(self):\n",
    "        termino = self.termino()\n",
    "        while self.posicion < len(self.tokens) and self.tokens[self.posicion].tipo in (\"+\", \"-\"):\n",
    "            operador = self.tokens[self.posicion].tipo\n",
    "            self.posicion += 1\n",
    "            siguiente_termino = self.termino()\n",
    "            termino = (operador, termino, siguiente_termino)\n",
    "        return termino\n",
    "\n",
    "    def termino(self):\n",
    "        factor = self.factor()\n",
    "        while self.posicion < len(self.tokens) and self.tokens[self.posicion].tipo in (\"*\", \"/\"):\n",
    "            operador = self.tokens[self.posicion].tipo\n",
    "            self.posicion += 1\n",
    "            siguiente_factor = self.factor()\n",
    "            factor = (operador, factor, siguiente_factor)\n",
    "        return factor\n",
    "\n",
    "    def factor(self):\n",
    "        if self.tokens[self.posicion].tipo == \"ENTERO\":\n",
    "            valor = self.tokens[self.posicion].valor\n",
    "            self.posicion += 1\n",
    "            return valor\n",
    "        elif self.tokens[self.posicion].tipo == \"IDENTIFICADOR\":\n",
    "            identificador = self.tokens[self.posicion].valor\n",
    "            self.posicion += 1\n",
    "            return identificador\n",
    "        elif self.tokens[self.posicion].tipo == \"(\":\n",
    "            self.posicion += 1\n",
    "            expresion = self.expresion()\n",
    "            self.esperar(\")\")\n",
    "            return expresion\n",
    "        else:\n",
    "            # raise Exception(\"Error de sintaxis\")\n",
    "            global Test_Analizador_Sintactico\n",
    "            Test_Analizador_Sintactico = False\n",
    "            print(\"Error de sintaxis\")\n",
    "\n",
    "    def esperar(self, tipo):\n",
    "        if self.posicion < len(self.tokens) and self.tokens[self.posicion].tipo == tipo:\n",
    "            token = self.tokens[self.posicion]\n",
    "            self.posicion += 1\n",
    "            return token\n",
    "        else:\n",
    "            # raise Exception(f\"Se esperaba un token de tipo {tipo}\")\n",
    "            global Test_Analizador_Sintactico\n",
    "            Test_Analizador_Sintactico = False\n",
    "            print(f\"Se esperaba un token de tipo {tipo}\")            "
   ]
  },
  {
   "attachments": {},
   "cell_type": "markdown",
   "metadata": {},
   "source": [
    "### Analizador Semántico."
   ]
  },
  {
   "cell_type": "code",
   "execution_count": 4,
   "metadata": {},
   "outputs": [],
   "source": [
    "class AnalizadorSemantico:\n",
    "    def __init__(self, declaraciones):\n",
    "        self.declaraciones = declaraciones\n",
    "\n",
    "    def analizar(self):\n",
    "        variables = set()\n",
    "        for declaracion in self.declaraciones:\n",
    "            identificador, expresion = declaracion\n",
    "            self.verificar_variables(expresion, variables)\n",
    "            variables.add(identificador)\n",
    "\n",
    "    def verificar_variables(self, expresion, variables):\n",
    "        if isinstance(expresion, tuple):\n",
    "            operador, izquierda, derecha = expresion\n",
    "            self.verificar_variables(izquierda, variables)\n",
    "            self.verificar_variables(derecha, variables)\n",
    "        elif isinstance(expresion, str) and expresion not in variables:\n",
    "            # raise Exception(f\"Variable no declarada: {expresion}\")\n",
    "            global Test_Analizador_Semantico \n",
    "            Test_Analizador_Semantico = False\n",
    "            print(f\"Variable no declarada: {expresion}\")            "
   ]
  },
  {
   "attachments": {},
   "cell_type": "markdown",
   "metadata": {},
   "source": [
    "### Codigo a analizar:"
   ]
  },
  {
   "cell_type": "code",
   "execution_count": null,
   "metadata": {},
   "outputs": [],
   "source": [
    "codigo = \"\"\"\n",
    "x = 2\n",
    "y = xp + 3\n",
    "z = (x + y) * 4\n",
    "\"\"\""
   ]
  },
  {
   "attachments": {},
   "cell_type": "markdown",
   "metadata": {},
   "source": [
    "### Uso de los analizadores en conjunto:"
   ]
  },
  {
   "cell_type": "code",
   "execution_count": 5,
   "metadata": {},
   "outputs": [
    {
     "name": "stdout",
     "output_type": "stream",
     "text": [
      "Analisis Sintactico Exitoso\n",
      "Analisis Semantico Exitoso\n"
     ]
    }
   ],
   "source": [
    "lexer = Lexer(codigo)\n",
    "tokens = lexer.obtener_tokens()\n",
    "analizador = Analizador(tokens)\n",
    "declaraciones = analizador.analizar()\n",
    "\n",
    "# Mensajes de testeo\n",
    "if Test_Analizador_Sintactico == True:\n",
    "    print('Analisis Sintactico Exitoso')\n",
    "if Test_Analizador_Semantico == True:\n",
    "    print('Analisis Semántico Exitoso')"
   ]
  }
 ],
 "metadata": {
  "kernelspec": {
   "display_name": "Python 3",
   "language": "python",
   "name": "python3"
  },
  "language_info": {
   "codemirror_mode": {
    "name": "ipython",
    "version": 3
   },
   "file_extension": ".py",
   "mimetype": "text/x-python",
   "name": "python",
   "nbconvert_exporter": "python",
   "pygments_lexer": "ipython3",
   "version": "3.11.2"
  },
  "orig_nbformat": 4
 },
 "nbformat": 4,
 "nbformat_minor": 2
}
